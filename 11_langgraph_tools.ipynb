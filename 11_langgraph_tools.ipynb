{
 "cells": [
  {
   "cell_type": "code",
   "execution_count": 1,
   "id": "d37be8af",
   "metadata": {},
   "outputs": [],
   "source": [
    "from langgraph.graph import StateGraph, START, END\n",
    "from typing import TypedDict, Annotated\n",
    "from langchain_core.messages import BaseMessage, HumanMessage\n",
    "from langchain_google_genai import ChatGoogleGenerativeAI\n",
    "from langgraph.graph.message import add_messages\n",
    "from dotenv import load_dotenv"
   ]
  },
  {
   "cell_type": "code",
   "execution_count": 2,
   "id": "5a692a77",
   "metadata": {},
   "outputs": [],
   "source": [
    "from langgraph.prebuilt import ToolNode, tools_condition\n",
    "from langchain_community.tools import DuckDuckGoSearchRun\n",
    "from langchain_core.tools import tool\n"
   ]
  },
  {
   "cell_type": "markdown",
   "id": "277bd4e8",
   "metadata": {},
   "source": [
    "1. Tool Node\n",
    "2. Tool Condition"
   ]
  },
  {
   "cell_type": "code",
   "execution_count": 3,
   "id": "d4b64f78",
   "metadata": {},
   "outputs": [],
   "source": [
    "import requests\n",
    "import random"
   ]
  },
  {
   "cell_type": "code",
   "execution_count": 4,
   "id": "efea0dd2",
   "metadata": {},
   "outputs": [
    {
     "data": {
      "text/plain": [
       "True"
      ]
     },
     "execution_count": 4,
     "metadata": {},
     "output_type": "execute_result"
    }
   ],
   "source": [
    "load_dotenv()"
   ]
  },
  {
   "cell_type": "code",
   "execution_count": 5,
   "id": "13d1f519",
   "metadata": {},
   "outputs": [],
   "source": [
    "llm = ChatGoogleGenerativeAI(model = 'gemini-2.5-flash')"
   ]
  },
  {
   "cell_type": "markdown",
   "id": "49767ca1",
   "metadata": {},
   "source": [
    "In langchain tools are of two type prebuilt or custom."
   ]
  },
  {
   "cell_type": "code",
   "execution_count": 6,
   "id": "7e7e87a8",
   "metadata": {},
   "outputs": [],
   "source": [
    "# Tools\n",
    "search_tool = DuckDuckGoSearchRun(region = \"us-en\")\n",
    "\n",
    "@tool\n",
    "def calculator(first_num: float, second_num: float, operation: str) -> dict:\n",
    "    \"\"\"\n",
    "    Perform a basic arithmatic operation on two numbers.\n",
    "    Supported operations: add, sub, mul, div\n",
    "    \"\"\"\n",
    "    try:\n",
    "        if operation == \"add\":\n",
    "            result = first_num + second_num\n",
    "        elif operation == \"sub\":\n",
    "            result = first_num - second_num\n",
    "        elif operation == \"mul\":\n",
    "            result = first_num * second_num\n",
    "        elif operation == 'div':\n",
    "            if second_num == 0:\n",
    "                return {\"error\": \"Division by zero is not allowed\"}\n",
    "            result = first_num / second_num\n",
    "        else:\n",
    "            return {\"error\": f\"Unsupported operation '{operation}' \"}\n",
    "        return {\"first_num\": first_num, \"second_num\": second_num, \"operation\": operation, \"result\": result}\n",
    "    \n",
    "    except Exception as e:\n",
    "        return {\"error\": str(e)}\n",
    "    \n",
    "\n",
    "\n",
    "@tool\n",
    "def get_stock_price(symbol: str) -> dict:\n",
    "    \"\"\"\n",
    "    Fetch latest stock price for a given symbol (e.g. 'AAPL', 'TSLA')\n",
    "    using Alpha Vantage with API key in the URL.\n",
    "    \"\"\"\n",
    "\n",
    "    url = f\"https://www.alphavantage.co/query?function=GLOBAL_QUOTE&symbol={symbol}&apikey=22TSBZ2018712L9I\"\n",
    "    r = requests.get(url)\n",
    "    return r.json()"
   ]
  },
  {
   "cell_type": "code",
   "execution_count": 7,
   "id": "093bebd0",
   "metadata": {},
   "outputs": [
    {
     "name": "stdout",
     "output_type": "stream",
     "text": [
      "Name: langchain-community\n",
      "Version: 0.3.30\n",
      "Summary: Community contributed LangChain integrations.\n",
      "Home-page: \n",
      "Author: \n",
      "Author-email: \n",
      "License: MIT\n",
      "Location: D:\\projects\\langgraph Chatbot\\myenv\\Lib\\site-packages\n",
      "Requires: aiohttp, dataclasses-json, httpx-sse, langchain, langchain-core, langsmith, numpy, pydantic-settings, PyYAML, requests, SQLAlchemy, tenacity\n",
      "Required-by: \n"
     ]
    }
   ],
   "source": [
    "!pip show langchain-community"
   ]
  },
  {
   "cell_type": "code",
   "execution_count": 8,
   "id": "61e42ff6",
   "metadata": {},
   "outputs": [
    {
     "name": "stdout",
     "output_type": "stream",
     "text": [
      "python executable: d:\\projects\\langgraph Chatbot\\myenv\\Scripts\\python.exe\n"
     ]
    }
   ],
   "source": [
    "import sys\n",
    "import os\n",
    "\n",
    "\n",
    "print(\"python executable:\",sys.executable)\n"
   ]
  },
  {
   "cell_type": "code",
   "execution_count": 9,
   "id": "17d97c12",
   "metadata": {},
   "outputs": [
    {
     "name": "stderr",
     "output_type": "stream",
     "text": [
      "'d:\\projects\\langgraph' is not recognized as an internal or external command,\n",
      "operable program or batch file.\n"
     ]
    }
   ],
   "source": [
    "!{sys.executable} -m pip install -U ddgs\n"
   ]
  },
  {
   "cell_type": "code",
   "execution_count": 10,
   "id": "3098dbb8",
   "metadata": {},
   "outputs": [],
   "source": [
    "# make tool list\n",
    "\n",
    "tools = [get_stock_price, search_tool, calculator]\n",
    "\n",
    "# make the LLM tool-aware\n",
    "llm_with_tools = llm.bind_tools(tools)"
   ]
  },
  {
   "cell_type": "code",
   "execution_count": 11,
   "id": "10061cf5",
   "metadata": {},
   "outputs": [],
   "source": [
    "# state\n",
    "class ChatState(TypedDict):\n",
    "    messages: Annotated[list[BaseMessage], add_messages]"
   ]
  },
  {
   "cell_type": "code",
   "execution_count": 12,
   "id": "df319b1a",
   "metadata": {},
   "outputs": [],
   "source": [
    "# graph nodes\n",
    "# 1st node\n",
    "def chat_node(state: ChatState):\n",
    "    \"\"\" LLM node that may answer or request a tool call.\"\"\"\n",
    "    messages = state['messages']\n",
    "    response = llm_with_tools.invoke(messages)\n",
    "    return {\"messages\": [response]}\n",
    "# 2nd node\n",
    "tool_node = ToolNode(tools)   # Execute tool calls"
   ]
  },
  {
   "cell_type": "code",
   "execution_count": 13,
   "id": "2c1f1168",
   "metadata": {},
   "outputs": [
    {
     "data": {
      "text/plain": [
       "<langgraph.graph.state.StateGraph at 0x2b3c4dcf620>"
      ]
     },
     "execution_count": 13,
     "metadata": {},
     "output_type": "execute_result"
    }
   ],
   "source": [
    "# graph structure\n",
    "\n",
    "graph = StateGraph(ChatState)\n",
    "graph.add_node(\"chat_node\", chat_node)\n",
    "graph.add_node(\"tools\", tool_node)"
   ]
  },
  {
   "cell_type": "code",
   "execution_count": 14,
   "id": "922134ea",
   "metadata": {},
   "outputs": [
    {
     "data": {
      "text/plain": [
       "<langgraph.graph.state.StateGraph at 0x2b3c4dcf620>"
      ]
     },
     "execution_count": 14,
     "metadata": {},
     "output_type": "execute_result"
    }
   ],
   "source": [
    "graph.add_edge(START, \"chat_node\")\n",
    "\n",
    "# if the LLM asked for a tool, go to ToolNode; else finish\n",
    "graph.add_conditional_edges(\"chat_node\", tools_condition)"
   ]
  },
  {
   "cell_type": "code",
   "execution_count": 15,
   "id": "a9ab0ae8",
   "metadata": {},
   "outputs": [
    {
     "data": {
      "image/png": "[encoded data removed]",
      "text/plain": [
       "<langgraph.graph.state.CompiledStateGraph object at 0x000002B3C4DCF770>"
      ]
     },
     "execution_count": 15,
     "metadata": {},
     "output_type": "execute_result"
    }
   ],
   "source": [
    "chatbot = graph.compile()\n",
    "chatbot"
   ]
  },
  {
   "cell_type": "code",
   "execution_count": 16,
   "id": "144f6889",
   "metadata": {},
   "outputs": [
    {
     "name": "stdout",
     "output_type": "stream",
     "text": [
      "Hello! How can I help you today?\n"
     ]
    }
   ],
   "source": [
    "# Regular chat\n",
    "\n",
    "out = chatbot.invoke({\"messages\": [HumanMessage(content=\"Hello!\")]})\n",
    "print(out[\"messages\"][-1].content)"
   ]
  },
  {
   "cell_type": "code",
   "execution_count": 17,
   "id": "e78bdc79",
   "metadata": {},
   "outputs": [
    {
     "name": "stdout",
     "output_type": "stream",
     "text": [
      "{\"first_num\": 2.0, \"second_num\": 3.0, \"operation\": \"mul\", \"result\": 6.0}\n"
     ]
    }
   ],
   "source": [
    "# chat requiring tool\n",
    "\n",
    "out = chatbot.invoke({'messages': [HumanMessage(content = \"What is 2*3 \")]})\n",
    "print(out['messages'][-1].content)"
   ]
  },
  {
   "cell_type": "code",
   "execution_count": 18,
   "id": "6c1f4a46",
   "metadata": {},
   "outputs": [
    {
     "name": "stdout",
     "output_type": "stream",
     "text": [
      "{\"Global Quote\": {\"01. symbol\": \"AAPL\", \"02. open\": \"254.5600\", \"03. high\": \"255.0000\", \"04. low\": \"253.0100\", \"05. price\": \"254.4300\", \"06. volume\": \"40127687\", \"07. latest trading day\": \"2025-09-29\", \"08. previous close\": \"255.4600\", \"09. change\": \"-1.0300\", \"10. change percent\": \"-0.4032%\"}}\n"
     ]
    }
   ],
   "source": [
    "# chat requiring tool\n",
    "\n",
    "out = chatbot.invoke({\"messages\": [HumanMessage(content = \"what is the stock price of Apple?\")]})\n",
    "print(out['messages'][-1].content)"
   ]
  },
  {
   "cell_type": "code",
   "execution_count": 19,
   "id": "9d125d4e",
   "metadata": {},
   "outputs": [
    {
     "name": "stdout",
     "output_type": "stream",
     "text": [
      "{\"Global Quote\": {\"01. symbol\": \"AAPL\", \"02. open\": \"254.5600\", \"03. high\": \"255.0000\", \"04. low\": \"253.0100\", \"05. price\": \"254.4300\", \"06. volume\": \"40127687\", \"07. latest trading day\": \"2025-09-29\", \"08. previous close\": \"255.4600\", \"09. change\": \"-1.0300\", \"10. change percent\": \"-0.4032%\"}}\n"
     ]
    }
   ],
   "source": [
    "# Chat requiring tool\n",
    "\n",
    "out = chatbot.invoke({\"messages\": [HumanMessage(content = \"What is the stock price of Apple, how much does it cost to buy 50 shares.\")]})\n",
    "print(out[\"messages\"][-1].content)"
   ]
  },
  {
   "cell_type": "code",
   "execution_count": null,
   "id": "8ac66ddb",
   "metadata": {},
   "outputs": [],
   "source": []
  },
  {
   "cell_type": "code",
   "execution_count": null,
   "id": "df276456",
   "metadata": {},
   "outputs": [],
   "source": []
  },
  {
   "cell_type": "code",
   "execution_count": null,
   "id": "4280d8db",
   "metadata": {},
   "outputs": [],
   "source": []
  }
 ],
 "metadata": {
  "kernelspec": {
   "display_name": "myenv",
   "language": "python",
   "name": "python3"
  },
  "language_info": {
   "codemirror_mode": {
    "name": "ipython",
    "version": 3
   },
   "file_extension": ".py",
   "mimetype": "text/x-python",
   "name": "python",
   "nbconvert_exporter": "python",
   "pygments_lexer": "ipython3",
   "version": "3.13.7"
  }
 },
 "nbformat": 4,
 "nbformat_minor": 5
}
